{
  "nbformat": 4,
  "nbformat_minor": 0,
  "metadata": {
    "colab": {
      "provenance": []
    },
    "kernelspec": {
      "name": "python3",
      "display_name": "Python 3"
    },
    "language_info": {
      "name": "python"
    }
  },
  "cells": [
    {
      "cell_type": "markdown",
      "source": [
        "#2-a)"
      ],
      "metadata": {
        "id": "ETk9Q5_h2h5-"
      }
    },
    {
      "cell_type": "code",
      "source": [
        "import numpy as np\n",
        "\n",
        "# 주어진 데이터\n",
        "D = np.array([[-1, 1],\n",
        "              [0, 1],\n",
        "              [1, 1],\n",
        "              [1, 0]])\n",
        "\n",
        "# input\n",
        "X = D[:, 0].reshape(-1, 1)\n",
        "\n",
        "# target\n",
        "t = D[:, 1].reshape(-1, 1)\n",
        "\n",
        "X = np.hstack((X, np.ones_like(X)))\n",
        "\n",
        "inv=np.linalg.inv(X.T.dot(X))\n",
        "temp=X.T.dot(t)\n",
        "w=inv.dot(temp)"
      ],
      "metadata": {
        "id": "wYadprmnC6pr"
      },
      "execution_count": null,
      "outputs": []
    },
    {
      "cell_type": "code",
      "source": [
        "w"
      ],
      "metadata": {
        "colab": {
          "base_uri": "https://localhost:8080/"
        },
        "id": "7yfCvSWqadc5",
        "outputId": "76ccb7b4-be3e-453e-fb55-193b3718517d"
      },
      "execution_count": null,
      "outputs": [
        {
          "output_type": "execute_result",
          "data": {
            "text/plain": [
              "array([[-0.27272727],\n",
              "       [ 0.81818182]])"
            ]
          },
          "metadata": {},
          "execution_count": 233
        }
      ]
    },
    {
      "cell_type": "code",
      "source": [
        "w[0][0] #w_1"
      ],
      "metadata": {
        "colab": {
          "base_uri": "https://localhost:8080/"
        },
        "id": "CVisEv31bPAP",
        "outputId": "620d7934-2520-4f27-b650-0fd6d05228e2"
      },
      "execution_count": null,
      "outputs": [
        {
          "output_type": "execute_result",
          "data": {
            "text/plain": [
              "-0.2727272727272727"
            ]
          },
          "metadata": {},
          "execution_count": 234
        }
      ]
    },
    {
      "cell_type": "code",
      "source": [
        "w[1][0] #w_0"
      ],
      "metadata": {
        "colab": {
          "base_uri": "https://localhost:8080/"
        },
        "id": "V1G-Gz5H15TE",
        "outputId": "f1efe570-f7e7-4dc6-cc33-1201094847f7"
      },
      "execution_count": null,
      "outputs": [
        {
          "output_type": "execute_result",
          "data": {
            "text/plain": [
              "0.8181818181818183"
            ]
          },
          "metadata": {},
          "execution_count": 235
        }
      ]
    },
    {
      "cell_type": "code",
      "source": [
        "cnt=len(w)\n",
        "for i in w:\n",
        "  print(f\"w_{cnt-1}:\",i)\n",
        "  cnt-=1"
      ],
      "metadata": {
        "colab": {
          "base_uri": "https://localhost:8080/"
        },
        "id": "qonfqihkUetx",
        "outputId": "63c032c3-bc9b-4e04-b37b-0c91d1432b45"
      },
      "execution_count": null,
      "outputs": [
        {
          "output_type": "stream",
          "name": "stdout",
          "text": [
            "w_1: [-0.27272727]\n",
            "w_0: [0.81818182]\n"
          ]
        }
      ]
    },
    {
      "cell_type": "markdown",
      "source": [
        "#2-b)"
      ],
      "metadata": {
        "id": "jlezW_ln2qOJ"
      }
    },
    {
      "cell_type": "code",
      "source": [
        "import numpy as np\n",
        "\n",
        "# 주어진 데이터\n",
        "D = np.array([[1, 1],\n",
        "              [0, 1],\n",
        "              [-1, 1],\n",
        "              [-1, 0]])\n",
        "\n",
        "# input\n",
        "X = D[:, 0].reshape(-1, 1)\n",
        "\n",
        "# target\n",
        "t = D[:, 1].reshape(-1, 1)\n",
        "\n",
        "\n",
        "X = np.hstack((X, np.ones_like(X)))\n",
        "inv=np.linalg.inv(X.T.dot(X))\n",
        "temp=X.T.dot(t)\n",
        "w=inv.dot(temp)"
      ],
      "metadata": {
        "id": "M5u6VDFw2s7E"
      },
      "execution_count": null,
      "outputs": []
    },
    {
      "cell_type": "code",
      "source": [
        "w"
      ],
      "metadata": {
        "colab": {
          "base_uri": "https://localhost:8080/"
        },
        "id": "3N7Uk4KFB-ax",
        "outputId": "cf16512a-6a9e-471f-86bf-ab6d3a41392f"
      },
      "execution_count": null,
      "outputs": [
        {
          "output_type": "execute_result",
          "data": {
            "text/plain": [
              "array([[0.27272727],\n",
              "       [0.81818182]])"
            ]
          },
          "metadata": {},
          "execution_count": 238
        }
      ]
    },
    {
      "cell_type": "code",
      "source": [
        "w[0][0] #w_1"
      ],
      "metadata": {
        "colab": {
          "base_uri": "https://localhost:8080/"
        },
        "id": "p2UChMnbB_xw",
        "outputId": "f0649ea8-c632-4c8c-f70c-df548dd46595"
      },
      "execution_count": null,
      "outputs": [
        {
          "output_type": "execute_result",
          "data": {
            "text/plain": [
              "0.2727272727272727"
            ]
          },
          "metadata": {},
          "execution_count": 239
        }
      ]
    },
    {
      "cell_type": "code",
      "source": [
        "w[1][0] #w_0"
      ],
      "metadata": {
        "colab": {
          "base_uri": "https://localhost:8080/"
        },
        "id": "n5Ma-rqOCB8S",
        "outputId": "deda9683-3c92-4668-d9e8-e163823ea6b8"
      },
      "execution_count": null,
      "outputs": [
        {
          "output_type": "execute_result",
          "data": {
            "text/plain": [
              "0.8181818181818183"
            ]
          },
          "metadata": {},
          "execution_count": 240
        }
      ]
    },
    {
      "cell_type": "code",
      "source": [
        "cnt=len(w)\n",
        "for i in w:\n",
        "  print(f\"w_{cnt-1}:\",i)\n",
        "  cnt-=1"
      ],
      "metadata": {
        "colab": {
          "base_uri": "https://localhost:8080/"
        },
        "id": "mGBSxL2JUdPn",
        "outputId": "2376f9ee-ed82-4eed-a840-d61799c76955"
      },
      "execution_count": null,
      "outputs": [
        {
          "output_type": "stream",
          "name": "stdout",
          "text": [
            "w_1: [0.27272727]\n",
            "w_0: [0.81818182]\n"
          ]
        }
      ]
    },
    {
      "cell_type": "markdown",
      "source": [
        "# 2-c)"
      ],
      "metadata": {
        "id": "n0WP6NRyCQEH"
      }
    },
    {
      "cell_type": "code",
      "source": [
        "def h2(x):\n",
        "  return x**2\n",
        "\n",
        "def h1(x):\n",
        "  return x\n",
        "\n",
        "def h0(x):\n",
        "  return np.full_like(x, 1)\n",
        "\n",
        "# 주어진 데이터\n",
        "D = np.array([[-1, 1],\n",
        "              [0, 1],\n",
        "              [1, 1],\n",
        "              [1, 0]])\n",
        "# input\n",
        "X = D[:, 0].reshape(-1, 1)\n",
        "\n",
        "# target\n",
        "t = D[:, 1].reshape(-1, 1)\n",
        "\n",
        "H = np.column_stack((h2(X),h1(X),h0(X)))\n",
        "print(\"H: \",H)\n",
        "\n",
        "inv=np.linalg.inv(H.T.dot(H))\n",
        "temp=H.T.dot(t)\n",
        "w=inv.dot(temp)"
      ],
      "metadata": {
        "colab": {
          "base_uri": "https://localhost:8080/"
        },
        "id": "hK19CfsGCZYN",
        "outputId": "8a6dcf3b-7a9a-4546-98a7-4e9c2dc7eb10"
      },
      "execution_count": null,
      "outputs": [
        {
          "output_type": "stream",
          "name": "stdout",
          "text": [
            "H:  [[ 1 -1  1]\n",
            " [ 0  0  1]\n",
            " [ 1  1  1]\n",
            " [ 1  1  1]]\n"
          ]
        }
      ]
    },
    {
      "cell_type": "code",
      "source": [
        "cnt=len(w)\n",
        "for i in w:\n",
        "  print(f\"w_{cnt-1}:\",i)\n",
        "  cnt-=1"
      ],
      "metadata": {
        "colab": {
          "base_uri": "https://localhost:8080/"
        },
        "id": "1pU_bredENrb",
        "outputId": "1e3b9a87-8f16-493d-d0af-c80f4de4ff95"
      },
      "execution_count": null,
      "outputs": [
        {
          "output_type": "stream",
          "name": "stdout",
          "text": [
            "w_2: [-0.25]\n",
            "w_1: [-0.25]\n",
            "w_0: [1.]\n"
          ]
        }
      ]
    },
    {
      "cell_type": "markdown",
      "source": [
        "# 2-d)"
      ],
      "metadata": {
        "id": "fZjIfKDeCZmp"
      }
    },
    {
      "cell_type": "code",
      "source": [
        "def h2(x):\n",
        "  return np.exp(-(x+1)**2)\n",
        "\n",
        "\n",
        "def h1(x):\n",
        "  return np.exp(-x**2)\n",
        "\n",
        "def h0(x):\n",
        "  return np.full_like(x, 1)\n",
        "\n",
        "# 주어진 데이터\n",
        "D = np.array([[-1, 1],\n",
        "              [0, 1],\n",
        "              [1, 1],\n",
        "              [1, 0]])\n",
        "# input\n",
        "X = D[:, 0].reshape(-1, 1)\n",
        "\n",
        "# target\n",
        "t = D[:, 1].reshape(-1, 1)\n",
        "\n",
        "H = np.column_stack((h2(X),h1(X),h0(X)))\n",
        "\n",
        "inv=np.linalg.inv(H.T.dot(H))\n",
        "temp=H.T.dot(t)\n",
        "w=inv.dot(temp)"
      ],
      "metadata": {
        "id": "fQ7W7wLkGutW"
      },
      "execution_count": null,
      "outputs": []
    },
    {
      "cell_type": "code",
      "source": [
        "H"
      ],
      "metadata": {
        "colab": {
          "base_uri": "https://localhost:8080/"
        },
        "id": "9hgOPmCaQXj-",
        "outputId": "1287b815-d735-4ddd-c48a-0c4001d0a912"
      },
      "execution_count": null,
      "outputs": [
        {
          "output_type": "execute_result",
          "data": {
            "text/plain": [
              "array([[1.        , 0.36787944, 1.        ],\n",
              "       [0.36787944, 1.        , 1.        ],\n",
              "       [0.01831564, 0.36787944, 1.        ],\n",
              "       [0.01831564, 0.36787944, 1.        ]])"
            ]
          },
          "metadata": {},
          "execution_count": 245
        }
      ]
    },
    {
      "cell_type": "code",
      "source": [
        "t"
      ],
      "metadata": {
        "colab": {
          "base_uri": "https://localhost:8080/"
        },
        "id": "uuziYrthKiy8",
        "outputId": "b6601541-ba9a-4970-d209-63d269aff4cc"
      },
      "execution_count": null,
      "outputs": [
        {
          "output_type": "execute_result",
          "data": {
            "text/plain": [
              "array([[1],\n",
              "       [1],\n",
              "       [1],\n",
              "       [0]])"
            ]
          },
          "metadata": {},
          "execution_count": 246
        }
      ]
    },
    {
      "cell_type": "code",
      "source": [
        "w"
      ],
      "metadata": {
        "colab": {
          "base_uri": "https://localhost:8080/"
        },
        "id": "rXNcQKHWHg2I",
        "outputId": "af0a327d-5158-40cd-e565-f877455e85ca"
      },
      "execution_count": null,
      "outputs": [
        {
          "output_type": "execute_result",
          "data": {
            "text/plain": [
              "array([[0.50932868],\n",
              "       [0.50932868],\n",
              "       [0.30329977]])"
            ]
          },
          "metadata": {},
          "execution_count": 247
        }
      ]
    },
    {
      "cell_type": "code",
      "source": [
        "cnt=len(w)\n",
        "for i in w:\n",
        "  print(f\"w_{cnt-1}:\",i)\n",
        "  cnt-=1"
      ],
      "metadata": {
        "colab": {
          "base_uri": "https://localhost:8080/"
        },
        "id": "BcYDLn6lVa__",
        "outputId": "14f6199a-72ef-42c2-f960-27f8f0cf4228"
      },
      "execution_count": null,
      "outputs": [
        {
          "output_type": "stream",
          "name": "stdout",
          "text": [
            "w_2: [0.50932868]\n",
            "w_1: [0.50932868]\n",
            "w_0: [0.30329977]\n"
          ]
        }
      ]
    },
    {
      "cell_type": "markdown",
      "source": [
        "# 3-a)"
      ],
      "metadata": {
        "id": "4S0ueUKHHjc6"
      }
    },
    {
      "cell_type": "code",
      "source": [
        "import numpy as np\n",
        "\n",
        "# 주어진 데이터를 NumPy 배열로 표현\n",
        "data = np.array([\n",
        "    [2, 200, 4, 27, 30000],\n",
        "    [5, 150, 3, 35, 20000],\n",
        "    [3, 180, 4, 25, 25000],\n",
        "    [1, 230, 2, 10, 21000],\n",
        "    [5, 180, 5, 40, 38000],\n",
        "    [4, 210, 3, 30, 31000]\n",
        "])\n",
        "\n",
        "print(data)\n",
        "\n"
      ],
      "metadata": {
        "colab": {
          "base_uri": "https://localhost:8080/"
        },
        "id": "zoBmeVluH1ex",
        "outputId": "fe5801c1-fda9-4ecd-9038-e298831d9448"
      },
      "execution_count": null,
      "outputs": [
        {
          "output_type": "stream",
          "name": "stdout",
          "text": [
            "[[    2   200     4    27 30000]\n",
            " [    5   150     3    35 20000]\n",
            " [    3   180     4    25 25000]\n",
            " [    1   230     2    10 21000]\n",
            " [    5   180     5    40 38000]\n",
            " [    4   210     3    30 31000]]\n"
          ]
        }
      ]
    },
    {
      "cell_type": "code",
      "source": [
        "age= data[:,0]\n",
        "hp= data[:,1]\n",
        "brand= data[:,2]\n",
        "mpg= data[:,3]\n",
        "price=data[:,4]"
      ],
      "metadata": {
        "id": "50w0i_P2IWib"
      },
      "execution_count": null,
      "outputs": []
    },
    {
      "cell_type": "code",
      "source": [
        "price.reshape(-1, 1)"
      ],
      "metadata": {
        "colab": {
          "base_uri": "https://localhost:8080/"
        },
        "id": "5Z4wnICSKlrI",
        "outputId": "9673941f-2eef-4d29-b26f-53983db6b737"
      },
      "execution_count": null,
      "outputs": [
        {
          "output_type": "execute_result",
          "data": {
            "text/plain": [
              "array([[30000],\n",
              "       [20000],\n",
              "       [25000],\n",
              "       [21000],\n",
              "       [38000],\n",
              "       [31000]])"
            ]
          },
          "metadata": {},
          "execution_count": 251
        }
      ]
    },
    {
      "cell_type": "code",
      "source": [
        "def h3(hp,age):\n",
        "  return hp/age\n",
        "\n",
        "def h2(hp):\n",
        "  return np.log(hp)\n",
        "\n",
        "\n",
        "def h1(brand,mpg):\n",
        "  return brand * np.sqrt(mpg)\n",
        "\n",
        "\n"
      ],
      "metadata": {
        "id": "DBaAuWNyIXhj"
      },
      "execution_count": null,
      "outputs": []
    },
    {
      "cell_type": "code",
      "source": [
        "# target\n",
        "t = price.reshape(-1, 1)\n",
        "H = np.column_stack((h3(hp,age),h2(hp),h1(brand,mpg)))\n",
        "\n",
        "#for w_0\n",
        "ones_column = np.ones((H.shape[0], 1))\n",
        "# 1로 구성된 열 벡터를 원래의 행렬에 추가\n",
        "H= np.hstack((H, ones_column))\n",
        "\n",
        "\n",
        "inv=np.linalg.inv(H.T.dot(H))\n",
        "temp=H.T.dot(t)\n",
        "w=inv.dot(temp)"
      ],
      "metadata": {
        "id": "q1SYe6CYJQUv"
      },
      "execution_count": null,
      "outputs": []
    },
    {
      "cell_type": "code",
      "source": [
        "H"
      ],
      "metadata": {
        "colab": {
          "base_uri": "https://localhost:8080/"
        },
        "id": "mGFJ-QaKQseq",
        "outputId": "9e85f0e5-5d5b-476c-9aaf-9e4ebec802e6"
      },
      "execution_count": null,
      "outputs": [
        {
          "output_type": "execute_result",
          "data": {
            "text/plain": [
              "array([[100.        ,   5.29831737,  20.78460969,   1.        ],\n",
              "       [ 30.        ,   5.01063529,  17.74823935,   1.        ],\n",
              "       [ 60.        ,   5.19295685,  20.        ,   1.        ],\n",
              "       [230.        ,   5.43807931,   6.32455532,   1.        ],\n",
              "       [ 36.        ,   5.19295685,  31.6227766 ,   1.        ],\n",
              "       [ 52.5       ,   5.34710753,  16.43167673,   1.        ]])"
            ]
          },
          "metadata": {},
          "execution_count": 254
        }
      ]
    },
    {
      "cell_type": "code",
      "source": [
        "w"
      ],
      "metadata": {
        "colab": {
          "base_uri": "https://localhost:8080/"
        },
        "id": "IZAfUyx2LD3I",
        "outputId": "525c2511-16a0-4c88-8c72-be3e00d968f9"
      },
      "execution_count": null,
      "outputs": [
        {
          "output_type": "execute_result",
          "data": {
            "text/plain": [
              "array([[-2.92265305e+01],\n",
              "       [ 3.81727020e+04],\n",
              "       [ 7.99597840e+02],\n",
              "       [-1.85350179e+05]])"
            ]
          },
          "metadata": {},
          "execution_count": 255
        }
      ]
    },
    {
      "cell_type": "code",
      "source": [
        "cnt=len(w)\n",
        "for i in w:\n",
        "  print(f\"w_{cnt-1}:\",i)\n",
        "  cnt-=1"
      ],
      "metadata": {
        "colab": {
          "base_uri": "https://localhost:8080/"
        },
        "id": "fF1etd8mLEJK",
        "outputId": "b02933df-7fa3-48c2-ae2d-5f5f4d5ad3ed"
      },
      "execution_count": null,
      "outputs": [
        {
          "output_type": "stream",
          "name": "stdout",
          "text": [
            "w_3: [-29.22653055]\n",
            "w_2: [38172.70195694]\n",
            "w_1: [799.5978402]\n",
            "w_0: [-185350.17920467]\n"
          ]
        }
      ]
    },
    {
      "cell_type": "code",
      "source": [],
      "metadata": {
        "id": "tZKb3x7dX9qx"
      },
      "execution_count": null,
      "outputs": []
    }
  ]
}